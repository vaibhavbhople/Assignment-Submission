{
 "cells": [
  {
   "cell_type": "markdown",
   "metadata": {},
   "source": [
    "# Assignment  3:\n",
    "\n",
    "\n",
    "Question 3:"
   ]
  },
  {
   "cell_type": "code",
   "execution_count": 1,
   "metadata": {},
   "outputs": [
    {
     "name": "stdout",
     "output_type": "stream",
     "text": [
      "[[11 12 13 11]\n",
      " [21 22 23 24]\n",
      " [31 32 33 34]]\n",
      "No of rows :  3\n",
      "No of Columns :  4\n",
      "\n",
      "Shape of array:  (3, 4)\n",
      "Dimention of array :  2\n"
     ]
    }
   ],
   "source": [
    "import numpy as np\n",
    "\n",
    "arr = np.array([[11 ,12,13,11], [21, 22, 23, 24], [31,32,33,34]])\n",
    "print(arr)\n",
    "print(\"No of rows : \",np.size(arr,0))\n",
    "print(\"No of Columns : \",np.size(arr,1))\n",
    "print()\n",
    "print(\"Shape of array: \",np.shape(arr))\n",
    "print(\"Dimention of array : \",np.ndim(arr))"
   ]
  },
  {
   "cell_type": "code",
   "execution_count": null,
   "metadata": {},
   "outputs": [],
   "source": []
  }
 ],
 "metadata": {
  "kernelspec": {
   "display_name": "Python 3",
   "language": "python",
   "name": "python3"
  },
  "language_info": {
   "codemirror_mode": {
    "name": "ipython",
    "version": 3
   },
   "file_extension": ".py",
   "mimetype": "text/x-python",
   "name": "python",
   "nbconvert_exporter": "python",
   "pygments_lexer": "ipython3",
   "version": "3.8.3"
  }
 },
 "nbformat": 4,
 "nbformat_minor": 4
}
