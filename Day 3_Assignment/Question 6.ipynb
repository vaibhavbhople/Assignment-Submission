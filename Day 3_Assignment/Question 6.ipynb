{
 "cells": [
  {
   "cell_type": "markdown",
   "metadata": {},
   "source": [
    "# Assignment  3:\n",
    "\n",
    "\n",
    "Question 6:"
   ]
  },
  {
   "cell_type": "code",
   "execution_count": 1,
   "metadata": {},
   "outputs": [
    {
     "name": "stdout",
     "output_type": "stream",
     "text": [
      "[[ 1  2  3  4]\n",
      " [ 5  6  7  8]\n",
      " [ 9 10 11 12]]\n",
      "\n",
      "(array([ 1,  2,  3,  4,  5,  6,  7,  8,  9, 10, 11, 12]), array([1, 1, 1, 1, 1, 1, 1, 1, 1, 1, 1, 1], dtype=int64))\n",
      "\n",
      "[[24 12 99  2]\n",
      " [65 75 99 20]\n",
      " [36 12 91 82]\n",
      " [73 12 65 24]]\n",
      "\n",
      "(array([ 2, 12, 20, 24, 36, 65, 73, 75, 82, 91, 99]), array([1, 3, 1, 2, 1, 2, 1, 1, 1, 1, 2], dtype=int64))\n"
     ]
    }
   ],
   "source": [
    "import numpy as np\n",
    "\n",
    "arr=np.arange(1,13).reshape(3,4)\n",
    "print(arr)\n",
    "print()\n",
    "\n",
    "print(np.unique(arr,return_counts=True))\n",
    "\n",
    "print()\n",
    "#----------------------------------------------------------------------------------------\n",
    "arr=np.array([[24,12,99,2],[65,75,99,20],[36,12,91,82],[73,12,65,24]])\n",
    "print(arr)\n",
    "print()\n",
    "\n",
    "print(np.unique(arr,return_counts=True))\n"
   ]
  },
  {
   "cell_type": "code",
   "execution_count": null,
   "metadata": {},
   "outputs": [],
   "source": []
  }
 ],
 "metadata": {
  "kernelspec": {
   "display_name": "Python 3",
   "language": "python",
   "name": "python3"
  },
  "language_info": {
   "codemirror_mode": {
    "name": "ipython",
    "version": 3
   },
   "file_extension": ".py",
   "mimetype": "text/x-python",
   "name": "python",
   "nbconvert_exporter": "python",
   "pygments_lexer": "ipython3",
   "version": "3.8.3"
  }
 },
 "nbformat": 4,
 "nbformat_minor": 4
}
