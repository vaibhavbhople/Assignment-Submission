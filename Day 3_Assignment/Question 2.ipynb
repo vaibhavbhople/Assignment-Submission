{
 "cells": [
  {
   "cell_type": "markdown",
   "metadata": {},
   "source": [
    "# Assignment  3:\n",
    "\n",
    "\n",
    "Question 2:"
   ]
  },
  {
   "cell_type": "code",
   "execution_count": 1,
   "metadata": {},
   "outputs": [
    {
     "name": "stdout",
     "output_type": "stream",
     "text": [
      "4\n",
      "3\n",
      "9\n",
      "6\n",
      "1\n",
      "[4, 3, 9, 6, 1]\n",
      "\n",
      "5\n",
      "8\n",
      "6\n",
      "2\n",
      "7\n",
      "[5, 8, 6, 2, 7]\n",
      "\n",
      "[[1 3 4 6 9]\n",
      " [2 5 6 7 8]]\n"
     ]
    }
   ],
   "source": [
    "import numpy as np\n",
    "\n",
    "list1=[]\n",
    "list2=[]\n",
    "for i in range(5):\n",
    "    n=int(input())\n",
    "    list1.append(n)\n",
    "print(list1)\n",
    "print()   \n",
    "\n",
    "for i in range(5):\n",
    "    m=int(input())\n",
    "    list2.append(m)\n",
    "print(list2)\n",
    "print() \n",
    "arr=np.array([list1,list2])\n",
    "print(np.sort(arr))"
   ]
  },
  {
   "cell_type": "code",
   "execution_count": null,
   "metadata": {},
   "outputs": [],
   "source": []
  }
 ],
 "metadata": {
  "kernelspec": {
   "display_name": "Python 3",
   "language": "python",
   "name": "python3"
  },
  "language_info": {
   "codemirror_mode": {
    "name": "ipython",
    "version": 3
   },
   "file_extension": ".py",
   "mimetype": "text/x-python",
   "name": "python",
   "nbconvert_exporter": "python",
   "pygments_lexer": "ipython3",
   "version": "3.8.3"
  }
 },
 "nbformat": 4,
 "nbformat_minor": 4
}
