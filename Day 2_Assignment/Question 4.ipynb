{
 "cells": [
  {
   "cell_type": "markdown",
   "metadata": {},
   "source": [
    "# Assignment 2:\n",
    "\n",
    "\n",
    "Question 4:"
   ]
  },
  {
   "cell_type": "code",
   "execution_count": 1,
   "metadata": {},
   "outputs": [
    {
     "name": "stdout",
     "output_type": "stream",
     "text": [
      "4\n",
      "UP 5\n",
      "DOWN 3\n",
      "LEFT 3\n",
      "RIGHT 2\n",
      "2\n"
     ]
    }
   ],
   "source": [
    "import math\n",
    "\n",
    "list=[]\n",
    "x,y=0,0\n",
    "n=int(input()) \n",
    "\n",
    "while n!=0:\n",
    "    list=input().split(' ')\n",
    "    step=int(list[1])\n",
    "    move=list[0].upper()\n",
    "    n-=1\n",
    "    \n",
    "    if move=='UP':\n",
    "        x+=step\n",
    "    elif move=='DOWN':    \n",
    "        x-=step\n",
    "    elif move=='LEFT':    \n",
    "        y+=step\n",
    "    elif move=='RIGHT':    \n",
    "        y-=step\n",
    "    else:\n",
    "        pass\n",
    "        \n",
    "print(round(math.sqrt((x**2)+(y**2))))"
   ]
  },
  {
   "cell_type": "code",
   "execution_count": null,
   "metadata": {},
   "outputs": [],
   "source": []
  }
 ],
 "metadata": {
  "kernelspec": {
   "display_name": "Python 3",
   "language": "python",
   "name": "python3"
  },
  "language_info": {
   "codemirror_mode": {
    "name": "ipython",
    "version": 3
   },
   "file_extension": ".py",
   "mimetype": "text/x-python",
   "name": "python",
   "nbconvert_exporter": "python",
   "pygments_lexer": "ipython3",
   "version": "3.8.3"
  }
 },
 "nbformat": 4,
 "nbformat_minor": 4
}
