{
 "cells": [
  {
   "cell_type": "markdown",
   "metadata": {},
   "source": [
    "# Assignment 2:\n",
    "\n",
    "Question 1:\n"
   ]
  },
  {
   "cell_type": "code",
   "execution_count": 1,
   "metadata": {},
   "outputs": [
    {
     "name": "stdout",
     "output_type": "stream",
     "text": [
      "Enter the number : 1\n",
      "Enter valid number \n",
      "\n",
      "Enter the number : 2\n",
      "Enter the number : 3\n",
      "Enter valid number \n",
      "\n",
      "Enter the number : 4\n",
      "Enter the number : 5\n",
      "Enter valid number \n",
      "\n",
      "Enter the number : 6\n",
      "Enter the number : 7\n",
      "Enter valid number \n",
      "\n",
      "Enter the number : 8\n",
      "Enter the number : 9\n",
      "Enter valid number \n",
      "\n",
      "Enter the number : 10\n",
      "Enter the number : 11\n",
      "Enter valid number \n",
      "\n",
      "Enter the number : 12\n",
      "Enter the number : 13\n",
      "Enter valid number \n",
      "\n",
      "Enter the number : 14\n",
      "Enter the number : 15\n",
      "Enter valid number \n",
      "\n",
      "Enter the number : 16\n",
      "Enter the number : 17\n",
      "Enter valid number \n",
      "\n",
      "Enter the number : 18\n",
      "Enter the number : 19\n",
      "Enter valid number \n",
      "\n",
      "Enter the number : 20\n",
      "[2, 4, 6, 8, 10, 12, 14, 16, 18, 20]\n"
     ]
    }
   ],
   "source": [
    "list=[]\n",
    "count=0\n",
    "while count!=10:\n",
    "    n=int(input(\"Enter the number : \"))\n",
    "    if n%2==0:\n",
    "        list.append(n)\n",
    "        count+=1\n",
    "    else:\n",
    "        print(\"Enter valid number \\n\")\n",
    "print(list)  "
   ]
  },
  {
   "cell_type": "code",
   "execution_count": null,
   "metadata": {},
   "outputs": [],
   "source": []
  }
 ],
 "metadata": {
  "kernelspec": {
   "display_name": "Python 3",
   "language": "python",
   "name": "python3"
  },
  "language_info": {
   "codemirror_mode": {
    "name": "ipython",
    "version": 3
   },
   "file_extension": ".py",
   "mimetype": "text/x-python",
   "name": "python",
   "nbconvert_exporter": "python",
   "pygments_lexer": "ipython3",
   "version": "3.8.3"
  }
 },
 "nbformat": 4,
 "nbformat_minor": 4
}
